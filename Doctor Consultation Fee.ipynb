{
 "cells": [
  {
   "cell_type": "markdown",
   "metadata": {},
   "source": [
    "# Doctor consultation fee"
   ]
  },
  {
   "cell_type": "markdown",
   "metadata": {},
   "source": [
    "## Data Description"
   ]
  },
  {
   "cell_type": "markdown",
   "metadata": {},
   "source": [
    "We have all been in situation where we go to a doctor in emergency and find that the consultation fees are too high. As a data scientist we all should do better. What if you have data that records important details about a doctor and you get to build a model to predict the doctor’s consulting fee.? This is the use case that let's you do that."
   ]
  },
  {
   "cell_type": "markdown",
   "metadata": {},
   "source": [
    "Size of training set: 5961 records"
   ]
  },
  {
   "cell_type": "markdown",
   "metadata": {},
   "source": [
    "Size of test set: 1987 records"
   ]
  },
  {
   "cell_type": "markdown",
   "metadata": {},
   "source": [
    "## Importing modules"
   ]
  },
  {
   "cell_type": "code",
   "execution_count": 387,
   "metadata": {
    "scrolled": false
   },
   "outputs": [],
   "source": [
    "import numpy as np\n",
    "import pandas as pd\n",
    "import seaborn as sns\n",
    "import matplotlib.pyplot as plt\n",
    "%matplotlib inline\n",
    "import warnings\n",
    "warnings.filterwarnings('ignore')"
   ]
  },
  {
   "cell_type": "markdown",
   "metadata": {},
   "source": [
    "## Reading csv file"
   ]
  },
  {
   "cell_type": "code",
   "execution_count": 388,
   "metadata": {
    "scrolled": false
   },
   "outputs": [],
   "source": [
    "df_train = pd.read_excel('doctor_fee_train.xlsx')"
   ]
  },
  {
   "cell_type": "code",
   "execution_count": 389,
   "metadata": {
    "scrolled": false
   },
   "outputs": [
    {
     "data": {
      "text/html": [
       "<div>\n",
       "<style scoped>\n",
       "    .dataframe tbody tr th:only-of-type {\n",
       "        vertical-align: middle;\n",
       "    }\n",
       "\n",
       "    .dataframe tbody tr th {\n",
       "        vertical-align: top;\n",
       "    }\n",
       "\n",
       "    .dataframe thead th {\n",
       "        text-align: right;\n",
       "    }\n",
       "</style>\n",
       "<table border=\"1\" class=\"dataframe\">\n",
       "  <thead>\n",
       "    <tr style=\"text-align: right;\">\n",
       "      <th></th>\n",
       "      <th>Qualification</th>\n",
       "      <th>Experience</th>\n",
       "      <th>Rating</th>\n",
       "      <th>Place</th>\n",
       "      <th>Profile</th>\n",
       "      <th>Miscellaneous_Info</th>\n",
       "      <th>Fees</th>\n",
       "    </tr>\n",
       "  </thead>\n",
       "  <tbody>\n",
       "    <tr>\n",
       "      <th>0</th>\n",
       "      <td>BHMS, MD - Homeopathy</td>\n",
       "      <td>24 years experience</td>\n",
       "      <td>100%</td>\n",
       "      <td>Kakkanad, Ernakulam</td>\n",
       "      <td>Homeopath</td>\n",
       "      <td>100% 16 Feedback Kakkanad, Ernakulam</td>\n",
       "      <td>100</td>\n",
       "    </tr>\n",
       "    <tr>\n",
       "      <th>1</th>\n",
       "      <td>BAMS, MD - Ayurveda Medicine</td>\n",
       "      <td>12 years experience</td>\n",
       "      <td>98%</td>\n",
       "      <td>Whitefield, Bangalore</td>\n",
       "      <td>Ayurveda</td>\n",
       "      <td>98% 76 Feedback Whitefield, Bangalore</td>\n",
       "      <td>350</td>\n",
       "    </tr>\n",
       "    <tr>\n",
       "      <th>2</th>\n",
       "      <td>MBBS, MS - Otorhinolaryngology</td>\n",
       "      <td>9 years experience</td>\n",
       "      <td>NaN</td>\n",
       "      <td>Mathikere - BEL, Bangalore</td>\n",
       "      <td>ENT Specialist</td>\n",
       "      <td>NaN</td>\n",
       "      <td>300</td>\n",
       "    </tr>\n",
       "    <tr>\n",
       "      <th>3</th>\n",
       "      <td>BSc - Zoology, BAMS</td>\n",
       "      <td>12 years experience</td>\n",
       "      <td>NaN</td>\n",
       "      <td>Bannerghatta Road, Bangalore</td>\n",
       "      <td>Ayurveda</td>\n",
       "      <td>Bannerghatta Road, Bangalore ₹250 Available on...</td>\n",
       "      <td>250</td>\n",
       "    </tr>\n",
       "    <tr>\n",
       "      <th>4</th>\n",
       "      <td>BAMS</td>\n",
       "      <td>20 years experience</td>\n",
       "      <td>100%</td>\n",
       "      <td>Keelkattalai, Chennai</td>\n",
       "      <td>Ayurveda</td>\n",
       "      <td>100% 4 Feedback Keelkattalai, Chennai</td>\n",
       "      <td>250</td>\n",
       "    </tr>\n",
       "  </tbody>\n",
       "</table>\n",
       "</div>"
      ],
      "text/plain": [
       "                    Qualification           Experience Rating  \\\n",
       "0           BHMS, MD - Homeopathy  24 years experience   100%   \n",
       "1    BAMS, MD - Ayurveda Medicine  12 years experience    98%   \n",
       "2  MBBS, MS - Otorhinolaryngology   9 years experience    NaN   \n",
       "3             BSc - Zoology, BAMS  12 years experience    NaN   \n",
       "4                            BAMS  20 years experience   100%   \n",
       "\n",
       "                          Place         Profile  \\\n",
       "0           Kakkanad, Ernakulam       Homeopath   \n",
       "1         Whitefield, Bangalore        Ayurveda   \n",
       "2    Mathikere - BEL, Bangalore  ENT Specialist   \n",
       "3  Bannerghatta Road, Bangalore        Ayurveda   \n",
       "4         Keelkattalai, Chennai        Ayurveda   \n",
       "\n",
       "                                  Miscellaneous_Info  Fees  \n",
       "0               100% 16 Feedback Kakkanad, Ernakulam   100  \n",
       "1              98% 76 Feedback Whitefield, Bangalore   350  \n",
       "2                                                NaN   300  \n",
       "3  Bannerghatta Road, Bangalore ₹250 Available on...   250  \n",
       "4              100% 4 Feedback Keelkattalai, Chennai   250  "
      ]
     },
     "execution_count": 389,
     "metadata": {},
     "output_type": "execute_result"
    }
   ],
   "source": [
    "df_train.head()"
   ]
  },
  {
   "cell_type": "markdown",
   "metadata": {},
   "source": [
    "## EDA"
   ]
  },
  {
   "cell_type": "markdown",
   "metadata": {},
   "source": [
    "### Checking for null values "
   ]
  },
  {
   "cell_type": "code",
   "execution_count": 391,
   "metadata": {
    "scrolled": false
   },
   "outputs": [
    {
     "data": {
      "text/plain": [
       "Qualification            0\n",
       "Experience               0\n",
       "Rating                3302\n",
       "Place                   25\n",
       "Profile                  0\n",
       "Miscellaneous_Info    2620\n",
       "Fees                     0\n",
       "dtype: int64"
      ]
     },
     "execution_count": 391,
     "metadata": {},
     "output_type": "execute_result"
    }
   ],
   "source": [
    "df_train.isnull().sum()"
   ]
  },
  {
   "cell_type": "code",
   "execution_count": 392,
   "metadata": {
    "scrolled": false
   },
   "outputs": [
    {
     "data": {
      "text/plain": [
       "Qualification          0.00\n",
       "Experience             0.00\n",
       "Rating                55.39\n",
       "Place                  0.42\n",
       "Profile                0.00\n",
       "Miscellaneous_Info    43.95\n",
       "Fees                   0.00\n",
       "dtype: float64"
      ]
     },
     "execution_count": 392,
     "metadata": {},
     "output_type": "execute_result"
    }
   ],
   "source": [
    "round(df_train.isnull().sum()/len(df_train)*100, 2)"
   ]
  },
  {
   "cell_type": "markdown",
   "metadata": {},
   "source": [
    "There are 55.39% in Rating, 0.42% in Place and 43.95% in Miscellaneous, null values present."
   ]
  },
  {
   "cell_type": "markdown",
   "metadata": {},
   "source": [
    "### Converting the qualification column into categorical"
   ]
  },
  {
   "cell_type": "code",
   "execution_count": 393,
   "metadata": {
    "scrolled": false
   },
   "outputs": [
    {
     "data": {
      "text/plain": [
       "array(['BHMS, MD - Homeopathy', 'BAMS, MD - Ayurveda Medicine',\n",
       "       'MBBS, MS - Otorhinolaryngology', ...,\n",
       "       'MD - Dermatology , Venereology & Leprosy, MBBS, Fellowship In Dermatosurgery',\n",
       "       'BDS, certification in smile designing',\n",
       "       'MD - Homeopathy, Post Graduate Diploma in Healthcare Management(PGDHM), DHMS (Diploma in Homeopathic Medicine and Surgery)'],\n",
       "      dtype=object)"
      ]
     },
     "execution_count": 393,
     "metadata": {},
     "output_type": "execute_result"
    }
   ],
   "source": [
    "df_train['Qualification'].unique()"
   ]
  },
  {
   "cell_type": "code",
   "execution_count": 394,
   "metadata": {
    "scrolled": true
   },
   "outputs": [
    {
     "data": {
      "text/plain": [
       "BDS                                                                                                                   488\n",
       "BHMS                                                                                                                  477\n",
       "BAMS                                                                                                                  471\n",
       "MBBS                                                                                                                  334\n",
       "MBBS, MS - ENT                                                                                                        220\n",
       "                                                                                                                     ... \n",
       "MBBS, Diploma in Public Health                                                                                          1\n",
       "MBBS, Postgraduate Diploma Clinical Cardiology (PGDCC), Master of Health Sciences (MHSc), MRCP (UK), MD - Medicine      1\n",
       "BDS, MDS - Orthodontics, Fellowship in Oral implantlogy                                                                 1\n",
       "MBBS, DNB - Dermatology & Venereology, Fellowship in LASERs & Aesthetics                                                1\n",
       "BDS, MDS - Oral & Maxillofacial Surgery, DICOI                                                                          1\n",
       "Name: Qualification, Length: 1420, dtype: int64"
      ]
     },
     "execution_count": 394,
     "metadata": {},
     "output_type": "execute_result"
    }
   ],
   "source": [
    "df_train['Qualification'].value_counts()"
   ]
  },
  {
   "cell_type": "markdown",
   "metadata": {},
   "source": [
    "Here there are lot of Qualification but most of doctors only has 1 or 2 qualification."
   ]
  },
  {
   "cell_type": "markdown",
   "metadata": {},
   "source": [
    "And the data is to much messy like, 'MBA -Healthcare' and ‘MBA’ which referred to same category so here we will take the top 10 Qualification that occurs the most."
   ]
  },
  {
   "cell_type": "code",
   "execution_count": 395,
   "metadata": {},
   "outputs": [
    {
     "name": "stdout",
     "output_type": "stream",
     "text": [
      "{'BHMS': 749, 'MD - Homeopathy': 181, 'BAMS': 764, 'MD - Ayurveda Medicine': 139, 'MBBS': 2808, 'MS - Otorhinolaryngology': 103, 'BSc - Zoology': 3, 'BDS': 1363, 'MD - General Medicine': 285, 'BSc': 3, 'MS': 2, 'DNB - ENT': 111, 'MDS': 82, 'MDS - Oral & Maxillofacial Surgery': 104, 'Diploma in Otorhinolaryngology (DLO)': 250, 'MF- Homeopathy': 5, 'MS - ENT': 411, 'DNB': 58, 'Fellowship of College of General Practice (FCGP)': 13, 'DDVL': 161, 'IBCLC (USA)': 1, 'Post Graduate Diploma in Diabetology (PGDD)': 53, 'Diploma in Dermatology': 67, 'Fellowship in Aesthetic Medicine': 23, 'DM - Neurology': 6, 'MD - Pediatrics': 13, 'Fellowship in Cleft Lip and Craniofacial Surgery': 1, 'Diploma in Cosmetology': 3, 'AFIH': 4, 'MDS - Prosthodontist And Crown Bridge': 45, 'M. D. Hom. (Practice of Medicine)': 2, 'Diploma in Emergency Medicine': 8, 'Diploma in Counselling Skills': 2, 'DHMS (Diploma in Homeopathic Medicine and Surgery)': 47, 'MD - Dermatology': 606, 'Venereology & Leprosy': 297, 'MDS - Oral and Maxillofacial Pathology': 1, 'MFDS RCS': 4, 'MRCS (UK)': 15, 'FRGUHS': 22, 'Fellowship in Dermatological Laser Surgery': 10, 'Member of the Royal College of Physicians': 4, 'UK (MRCP UK)': 4, 'MNAMS- Family Medicine': 1, 'MD - Medicine': 72, 'MS - Psychology': 15, 'Diploma In Skin Aesthetics': 4, 'MDS - Periodontology and Oral Implantology': 47, 'Certificate in Cosmetic Dentistry': 8, 'Post Graduate Certificate in Endodontics (PGCE)': 6, 'Fellow of Academy of General Education (FAGE)': 23, 'MD - Rheumatology': 2, 'MDS - Paedodontics And Preventive Dentistry': 47, 'MDS-Oral Pathology and Oral Microbiology': 10, 'FRCP': 15, 'Doctor of Science (DSc.)': 1, 'D.LITT - Diabetology': 1, 'DDV': 129, 'MDS - Conservative Dentistry & Endodontics': 107, 'FICD': 4, 'Post Graduate Diploma in Emergency Services (PGDEMS)': 10, 'Get inspired by remarkable stories of people like you': 24, 'MD - Acupuncture': 6, 'Master of Hospital Administration': 3, 'BA': 1, 'MDS - Periodontics': 46, 'PGD in Endodontics': 1, 'MDS - Pedodontics': 30, 'PhD - Orthodontics & Dentofacial Orthopaedics': 26, 'MOrth': 2, 'MS - Ayurveda': 29, 'MRCPS': 5, 'P.G Diploma in Aesthetic Dentistry': 1, 'MD - Tuberculosis & Respiratory Diseases/Medicine': 3, 'MS - General Surgery': 40, 'Diploma in Health Administration': 9, 'MD - Skin & VD': 27, 'FAMS - Fellowship of the Academy Medicine': 3, 'MD - Internal Medicine': 71, 'DNB - Internal Medicine': 12, 'FRCS - General Surgery': 11, 'PhD - Homoeopathy': 2, 'Certificate in Dental Implants': 32, 'MDS - Orthodontics and Dentofacial Orthopaedics': 44, 'DNB - Family Medicine': 10, 'MS - Pediatric': 1, 'Member of the Royal Society for the Promotion of Health (UK) (MRSH)': 3, 'Post Graduate Diploma in Endocrinology': 5, 'MDS - Prosthodontics': 74, 'M.Sc.- Clinical Nutrition and Dietetics': 1, 'MSc - Psychotherapy And Counselling': 5, 'MS (Shalyatantra)': 1, 'MSc - Yoga': 4, 'DLO': 17, 'Post Graduate Diploma in Advanced Implantology': 1, 'MD - Alternate Medicine': 19, 'Post Graduate Diploma in Counselling & Psychotherapy': 1, 'MS - Counselling & Psychotherapy': 3, 'PhD - Alternative Medicine': 1, 'Fellowship in Oral implantlogy': 16, 'Diploma in Personal Counselling Skills (DPCS)': 1, 'DNB - Dermatology': 11, 'GCEH': 2, 'Certification in Personal Counsling': 1, 'Post Graduate Diploma in Healthcare Management(PGDHM)': 6, 'Fellowship in Lasers & Cosmetology': 2, 'Fellowship In Anti-Aging And Aesthetic Medicine': 2, 'Diploma in Practical Dermatology': 5, 'Fellow Hair Transplant Surgery': 4, 'Fellowship in Lasers & Advanced Dermatology': 1, 'DNB - Paediatrics': 4, 'MRCPCH (UK)': 3, 'MDS - Oral Medicine and Radiology': 26, 'Diploma in Obesity managemnt': 1, 'Certificate Course In Therapeutic Yoga': 1, 'DNB - Nephrology': 4, 'Certification in Aesthetic Dentistry': 10, 'MRCP': 1, 'Fellowship In Laryngology Bronchoesophagology': 3, 'FAGE': 4, 'Diploma in Medical Radio-Diagnosis': 4, 'Certification in Full Mouth Rehabilitation': 6, 'Diploma in Acupuncture': 9, 'Diploma in Naturopathy & Yogic Science (DNYS)': 3, 'Fellowship in Minimal Access Surgery': 3, 'DGO': 17, 'Diplomate in Oral Implantology': 2, 'Masters in Oral Implantology': 1, 'Implant Externship Program': 2, 'Fellowship in Implantology': 6, 'M.S. (Ayurved) Stri Roga & Prasuti Tantra': 1, 'MS - Ayurvedic Gynecology & Obstetrics': 2, 'MD - Pathology': 3, 'Fellowship in Rheumatology': 4, 'MBA': 7, 'D.Y.A': 6, 'DVD': 46, 'Diploma in Public Health': 3, 'PhD- Ayurveda': 13, 'DM - Critical Care Medicine': 1, 'Post Graduate Course in Diabetology': 7, 'DNB - Otorhinolaryngology': 45, 'BSAM': 7, 'Certificate Course in Sports and Fitness Nutrition': 2, 'Diploma in Advanced Skin and Hair Treatments': 1, 'Doctor of Medicine (Alternate Medicine)': 2, 'Certificate in Cosmetology': 2, 'MD - Skin': 13, 'VD & Leprosy': 13, 'MDS - Public Health Dentistry': 5, 'Post Graduate Diploma In Yoga': 5, 'Diploma in ENT': 3, 'MA': 2, 'DNHE': 9, 'Diploma in Endoscopy': 1, 'Diploma in Anesthesiology': 7, 'MRCGP': 8, 'MDS - Orthodontics': 68, 'MD - Microbiology': 3, 'Post-Graduate Certificate in Oral Implantology (PGCOI)': 12, 'DO': 4, 'Diploma in Naturopathy & Yoga (NDDY)': 4, 'DNB - Dermatology & Venereology': 88, 'Diploma in Dermatology & Venerology': 5, 'DPM (Psychiatry)': 3, 'M.D. (Psychiatry)': 6, 'MD - Pharmacology': 6, 'Diploma in Diabetology': 3, 'Fellowship in Diabetology(Royal Liverpool University Hospital': 1, 'UK)': 8, 'Diploma in Family Medicine (DFM)': 8, 'Post Graduate Diploma in Clinical Research (PGDCR)': 8, 'F.A.G.E': 1, 'Diploma In Clinical Panchakarma': 1, 'Diploma in Child Health (DCH)': 20, 'DNB - Pediatrics': 2, 'DAA - Diploma in Allergy Asthma and Immunology': 3, 'MS - Endocrinology & Diabetes': 1, 'DM - Cardiology': 11, 'FNB - Infectious Disease': 1, 'DNB - General Medicine': 38, 'Diploma in Tuberculosis and Chest Diseases (DTCD)': 8, 'Division of Clinical Psychology (DCP)': 2, 'MSc - Master of Oral Implantology (MOI)': 4, 'MD - Oncology': 1, 'FCPS - Dermatology': 13, 'Certificate in Child Health (CCH)': 19, 'Masters in Counselling and Psychotherapy': 2, 'Diploma in Rheumatology': 1, 'MCP(UCLA-USA)': 1, 'PhD - Neuropsychology': 1, 'Fellowship in ENT': 1, 'Diploma In Naturopathy (ND)': 6, 'PG Diploma in Sexual Medicine': 1, 'Diploma in Medical Law and Ethics (PGDMLE)': 2, 'MRCP (UK)': 21, 'MBA (Health Care)': 2, 'Diplomate of American board of hair restoration surgery': 1, 'Post Graduate Diploma in Diabetes': 1, 'MNAMS - Plastic Surgery': 1, 'Certified in Hair Transplantation': 2, 'PG Diploma In Clinical Cosmetology (PGDCC)': 13, 'DORL (ENT)': 5, 'IDCC (ISCCM)': 1, 'MD - Family Medicine': 4, 'Master of Public Health (MPH)': 4, 'Diploma in Cardiology': 5, 'Fellowship In Cosmetic Dermatology': 7, 'MD - Anaesthesiology': 6, 'Ayurvedic panchkarma': 3, 'Post Graduate Diploma in Dermotology (PGDD)': 1, 'Certificate of Oral Implantology': 14, 'Certification in Laser Dentistry': 6, \"Dip' NMD\": 1, 'PGMHA': 2, 'Diploma in Hospital Management': 5, 'Certificate Course in Management of Thyroid Disorder': 4, 'Fellowship in Diabetology(Boston School of Medicine': 1, 'USA)': 3, 'PGDHHM': 6, 'Post Graduate Diploma in Hospital & Healthcare Management': 5, 'FCSI': 1, 'FSCAI': 3, 'Master of Clinical Dentistry': 1, 'Certified In Panchkarma': 3, 'Certification In Yoga': 2, 'Paanchabhautic Ayurveda Certificate': 1, 'Diploma in Traditional Chinese Medicine': 1, 'Diploma of Clinical Hypnotherapy': 1, 'Fellowship in Diabetology': 26, 'Diploma in Laser Dentistry': 3, 'Diploma in Preventive & Promotive Healthcare': 2, 'Integrated Clinical Hypnotherapy': 2, 'Master of Oral Laser Applications': 1, 'MSc - Psychology': 3, 'Post Graduate Diploma in Family Medicine (PGDFM)': 1, 'MD - Ayurvedic Pharmacology': 2, 'Certificate Endodontics & Pedodontics': 2, 'Certified Inman Aligner': 1, '39 years experience': 1, 'Cert. (Prosthodontics)': 1, 'MD - Ayurvedic Obstetrics and Gynecology': 1, 'Diploma in Hospital Administration': 7, 'MCh - Urology': 4, 'DNB - Urology/Genito - Urinary Surgery': 3, 'FRCP - Endocrinology': 1, 'LCEH': 16, 'Nutrition Certification': 4, 'Doctor of Homeopathic Medicine (HMD)': 5, 'Diploma in Implant Dentistry': 2, 'Fellowship in Cosmetology': 8, 'MD - Community Medicine': 4, 'P.G.Hom.(London)': 1, 'fellowship in medical cosmetology': 1, 'germany': 1, 'Certified Advance Course In Endodontics': 5, 'Diplomate of National Board Exam': 1, 'Diploma in Implanthology': 6, 'ECFMG (USA)': 2, 'Fellowship In Dermatosurgery': 6, 'Fellowship in Pediatric Dermatology': 5, 'CGO': 25, 'Diploma in Trichology - Cosmetology': 7, 'Diploma in Weight Loss': 1, 'EducationDiploma in Naturopathy and Yoga': 1, 'P.G Diploma in Diabetes Management': 1, 'Post Graduate Diploma in Maternity and Child Health (PGDMCH)': 5, 'Fellowship SIB': 1, 'DAA': 3, 'DNB - Peripheral Vascular Surgery': 1, 'FRACS': 1, 'Diploma in Aesthetic Medicine': 4, 'MCIP': 2, 'PGDCFS': 1, 'PGDFOS': 1, 'Diploma in Journalism': 1, 'MD - Homoeopathic Philosophy': 2, 'MS - Counselling and Psychotherapy': 7, 'MCh - Oncology': 1, 'MNAMS - General Surgery': 3, 'Diploma in Geriatric Medicine': 2, 'M C P S': 1, 'Fellowship In Infectious Disease': 1, 'M Derm': 1, 'FCAH (Fellow ship course in Advance Homoepath)': 3, 'MD - Pulmonary Medicine': 3, 'BPTh/BPT': 1, 'PGNAHI': 2, 'CSD': 3, 'MSc': 6, 'PG in Diabetology': 7, 'FCPS Skin & VD': 3, 'M. D. IN KAYACHIKISTA': 2, 'Diploma in Psychiatry': 1, 'Diploma in Panchkarma Chikitsa': 1, 'Fellowship and Diplomate in Implantology from ICOI (USA)': 9, 'MCh - Plastic Surgery': 2, 'Fellowship in Cleft Lip & Palate': 1, 'MD - Diabetology': 6, 'Post Doctoral Fellowship in Diabetology': 1, 'MD - Cardiology': 5, 'MBA (HCS)': 3, 'FFDRCSI': 3, 'Fellowship in Applied Nutrition(FAN)': 2, 'PhD - Clinical Neuroscience (Pediatrics)': 1, 'Professional Diploma in Clinical Research (PDCR)': 1, 'FICOI': 8, 'MD - Physician': 23, 'BNYS': 1, 'Advanced Certificate Course in Aesthetic Dentistry': 3, 'Professional Implantology Training Course (PITC)': 2, 'FAGE- FELLOW': 1, 'Comprehensive Course in Modern Endodontics': 2, 'Indian Diploma Critical Care Medicine (IDCCM)': 3, 'Fellowship in Aesthetic Dentistry (FAD)': 3, 'Fellowship in Rhinology and Endoscopic Skull Base Surgery': 1, 'Fellowship in Otology and Neurotology': 1, 'Fellow of International Congress of Oral Implantologist': 2, 'Post MD SR AIIMS': 2, 'Fellowship in Head & Neck Oncology Surgery': 9, 'Certificate in Dental Implantology': 1, 'Certificate in Orthodontics': 1, 'Bachelor of Chiropractic': 1, 'Diploma in Venereology': 3, 'Certificate in Invisible Braces': 3, 'Certification in Clear Aligners': 2, 'Certification in “Preventing Chronic Pain: A Human Systems Approach”': 1, 'Certification in “Vital Signs: Understanding What the Body Is Telling Us”': 1, 'Diploma in Medical Trichology': 1, 'B.Sc': 12, 'MBA - Healthcare Administration': 1, 'MRCPsych': 1, 'Diploma in Medical Cosmetology and Aesthetic Medicine': 1, 'PG Diploma In Health & Hospital Management': 2, 'PG DIPLOMA IN MEDICAL TOURISM': 1, 'Fellowship in LASERs & Aesthetics': 2, 'Diploma in Orthopaedics': 3, 'DNB - General Surgery': 4, 'MS - Paediatrics Surgery': 1, 'DNB - Pediatric Surgery': 1, 'One Year Certificate course in Hospital Management': 1, 'Certified Course in Yoga': 3, 'DICOI': 3, 'MBA - Hospital Management': 5, 'G.A.M.S': 3, 'MS - Ophthalmology': 3, 'Fellowship in Implant and Esthetic Dentistry': 2, 'AOC in Aesthetic Dentistry': 1, 'PGDE (Cosmetic & Esthetic Dentist)': 3, 'Invisalign Training Course': 4, 'Post Graduate Diploma in Clinical Nutrition & Dietetics': 1, 'Masters Diploma in Acupressure': 2, 'MDS- Oral Pathology': 6, 'Fellowship in Breast Surgery': 1, 'Fellowship in Non-Invasive Cardiology (FIC)': 4, 'MAMS': 3, 'FCPS - Mid. & Gynae': 3, 'CVD': 2, 'Diploma in Clinical Nutrition': 1, 'MS - Ayurvedic General Surgery': 1, 'MD - Yoga and Rehab': 2, 'Certification in Infectious Diseases': 1, 'Diploma in Tropical Medicine Health': 2, 'Fellowship in Skull Base Surgery': 2, 'TFO (USA)': 1, 'PG in Diabetology (USA)': 3, 'MDS - Orthodontics and Orofacial Orthopaedics': 3, 'M.Med in Family Medicine': 1, 'DIACH(Greece)': 1, 'Certificate Course in Advanced Homoeopathy (C.C.A.H)': 6, 'FCCM': 4, 'FCCP - Pulmonary Medicine': 6, 'Diploma of the Faculty of Family Planning (DFFP)': 2, 'Diploma in Sports Therapy': 1, 'Post graduate diploma in Hospital Management': 2, 'Certification for Professional Chemical Peel Workshop': 1, 'Certificate in Aesthetic Medicine': 2, 'BUMS': 1, 'Masters in Clinical Dermatology': 6, 'PGCC - Rheumatology': 1, 'MD - Opthalmology': 1, 'MD - Kayachikitsalaya': 1, 'MS - Implantolgy': 1, 'Implantology ICOI(USA)': 1, 'Diploma in Diet and Nutrition': 7, 'PGDHA': 2, 'Certificate Course in Tuberculosis & Chest Diseases': 1, 'Advanced Training Program in Diabetes Care': 1, 'PhD in Liberal Studies in Diabetology (Trinity College)': 1, 'CCEDM': 3, 'CCMTD': 3, 'CCDR': 1, 'MDS - Implantology': 1, 'MD - Obstetrics & Gynaecology': 8, 'MD-DVL': 3, 'Diploma in Beauty Therapy': 1, 'Certificate Course In Cosmetic Dermatology & Lasers': 2, 'PG Diploma in Trichology': 2, 'Certificate in Botox': 1, 'Fillers': 1, 'Threadlifts': 1, 'Advanced Certification in Clinical Diabetology': 2, 'SCE Dermatology (RCP': 1, 'Post Graduate Diploma in Orthodontics': 4, 'CCD (Diabetology)': 1, 'MCh - Cardio Thoracic and Vascular Surgery': 1, 'DM - Gastroenterology': 5, 'FCPS - General Surgery': 3, 'DM - Rheumatology': 1, 'Fellowship in Dermatology': 2, 'Training in Facial Aesthetics': 1, 'Certificate in Health Management': 1, 'MD - Homeopathy Psychiatry': 2, 'PGCAD': 1, 'MRCP (Paed)': 1, 'Diplomate American Academy of Aesthetic Medicne': 1, 'MS - Urology': 1, 'MCh - Urology/Genito-Urinary Surgery': 1, 'PG Diploma In Emergency Trauma Care': 2, 'Post Graduate Diploma in Diabetology (PGDD)(Middlesex University': 1, 'Fellowship in Orthopaedic Rehabilitation (FOR)': 1, 'MIDA': 1, 'Certificate Course in Dental Lasers': 1, 'Certificate Course in Implantology': 3, 'DM - Endocrinology': 3, 'PGCR': 2, 'Diploma in Diabetes/Endocrinology (Middlesex University)': 1, 'MD - Paediatrics': 2, 'MD - (Dermatology & STD)': 2, 'Diploma in Clinical Pathology': 1, 'PG Diploma in Preventive and Promotive Health Care (PGD PPHC)': 1, 'Fellowship in Medical Cosmetology (FMC)': 2, 'MDS - Endodontics': 4, 'MCh - Neuro Surgery': 2, 'Fellowship in Cosmetic Surgery': 2, 'DNB - Ophthalmology': 3, 'Fellowship in Vitreo-Retina': 1, 'MS - Orthopaedics': 4, 'MNAMS (Membership of the National Academy)': 5, 'Post Graduate Diploma in Medicological Systems (PGDMS)': 2, 'Fellow of the Royal Australasian College of Surgeons': 1, 'FRACS (General Surgery)': 1, 'Fellowship in Ayurvedic Medicine': 1, 'DM - Oncology': 2, 'DHMS': 3, 'Fellowship in Endocrinology': 2, 'Diabetes & Metabolism': 2, 'Fellow of American College of Endocrinology(FACE)': 1, 'PG Diploma in Child Health': 1, 'POST GRADUATE IN HOMOEOPATHY': 1, 'Certified in Orthodontics': 2, 'Certified BPS Dentist': 3, 'Fellowship in Advanced Endoscopic Sinus Surgery': 3, 'Degree in Dental Implant': 1, 'Advanced Endotontic Course On Root Canal': 2, 'Master In Counselling Psychology': 1, 'Diploma in Diabetology (Mumbai University)': 1, 'D.Sc': 2, 'Certification Course In Diabetes': 2, 'Fellowship in Clinical Cardiology': 1, 'Post Graduate Certificate in Advanced Oral Implantology': 3, 'Ph.D Panchakarma': 1, 'M.Ch': 3, 'FICS': 3, 'FRCS': 3, 'PG Diploma in Panchakarma': 1, 'F.C.I.P': 1, 'MDS - Oral & Maxillofacial Pathology and Microbiology': 1, 'M.Ch - Orthopaedics': 2, 'Fellowship in Joint Replacement': 2, 'Fellowship in Diabetology(Royal Liverpool Academy': 2, 'FCD - Diabetology': 5, 'PhD - Microbiology': 1, 'DEMS': 2, 'Member of Royal College of Emergency Medicine(MRCEM)': 1, 'Masters in Emergency Medicine': 1, 'International Certificate in Implant Dentistry': 1, 'Current Concepts in American Dentistry Advances in Implantology and Oral Rehabilitation': 2, 'MSc - Forensic Odontology': 2, 'MBA - Hospital Administration': 1, 'MCh - Surgical Gastroenterology/G.I. Surgery': 2, 'DNB - Infectious Disease': 1, 'PGDMLS': 4, 'MBA - HealthCare Management': 2, 'M.H.Sc-Diabetology': 3, 'CCEBDM': 3, 'Certificate Course in Nutrition and Dietetics': 1, 'PhD - Acupuncture': 2, 'BEMS': 5, 'Fellowship in Gastroenterology': 2, 'DNB - Oral & Maxillofacial Surgery': 1, 'MD- Dravya Guna': 3, 'Fellow of Advanced Micro ear Surgery': 1, 'MDS- Periodontist & Implantalogist': 1, 'Fellowship in Head & Neck Surgery': 2, 'Fellowship Training in Intensive Care Medicine': 1, 'Fellow of Indian College of Cardiology (FICC)': 1, 'MD - Anatomy': 2, 'Fellowship in Child and Adolescent Psychiatry': 1, 'Post Graduate Diploma in Periodontics and Implantology': 1, 'Fellowship Program in Forensic Odontology': 1, 'Fellowship In Phonosurgery': 2, 'MA - Psychology': 2, 'Post Graduate Course in Rheumatology': 1, 'MD - Venereology': 1, 'MD - Repertory': 1, 'DNB - Obstetrics & Gynecology': 2, 'Postgraduate Diploma Clinical Cardiology (PGDCC)': 6, 'Fellowship in Cardiac Rehabilitation': 2, 'Certificate Course in Oral Implantology': 1, 'MPH': 4, 'Post Graduate Diploma in Holistic Healthcare': 1, 'Graduate Diploma in Family Medicine': 1, 'Singapore': 1, 'D.Ortho Fellow Arthroscopy & Arthroplasty(AUST)': 1, 'DNB - Orthopedics/Orthopedic Surgery': 3, 'MNAMS - DERMATOLOGY': 1, 'Basic Life Support (BLS)': 3, 'ACLS': 1, 'Advanced Trauma Life Support (ATLS)': 2, 'Diploma In Pharmacy': 3, 'Advance Diploma in Nutrition and Dietetics': 2, 'Certificate in Yoga & Meditation': 1, 'DM - Nephrology': 4, 'Diploma in Nutrition and Health Education': 1, 'MSc - Clinical Dermatology': 4, 'Advanced Certificate in Endodontics and Esthetics': 1, 'Advanced Certificate Course in Dental Implants': 2, 'B.Ac': 1, 'FACC': 1, 'Certificate Course in Positive Psychology': 1, 'Clinical Nutritionist certifcate': 1, 'M.Sc - Counselling and Family Therapy': 1, 'D. Dermatology (Ay.)': 1, 'Master of Family Medicine': 2, 'MS - Obstetrics & Gynaecology': 2, 'MDS- Root Canal Specialist': 1, 'FCPS (ENT)': 1, 'Certificate in Implantology': 1, 'FCPS - Oto-Rhino-Laryngology': 5, 'Certificate in Medical Cosmetology and Aesthetics': 1, 'MCh - Head and Neck Oncology': 4, 'DDVCPS': 1, 'Diploma in Medical Cosmetology': 4, 'FNB - Critical Care Medicine': 1, 'European Diploma in Intensive Care Medicine (EDIC)': 1, 'CCST - Internal Medicine': 1, 'CCST - Diabetes & Endocrinology': 2, 'M.D. (E.H)': 1, 'MDS - Preventive & Community Dentistry': 1, 'Diploma in Homoeopathy and Biochemistry': 1, 'Diploma in Hair Restoration Surgery': 2, 'Fellowship In Pediatric Otolaryngology': 2, 'Fellowship in Diabetology(The University of Liverpool': 1, 'Diploma in Industrial Hygiene': 2, 'Diploma in Educational Psychology': 1, 'Certificate in Food and Nutrition': 3, 'Diploma in Clinical Dermatology (UK)': 1, 'F.S.R.H': 1, 'FCPS - Medicine': 2, 'MD - Nephrology': 1, 'MCh - Surgical Oncology': 2, 'Diploma in Gynaecology & Obstetrics': 1, 'Fellow of the American Academy of Dermatology (FAAD)': 4, 'MDS - Prosthodontist & Oral Implantologist': 4, 'MD - Homeo Organon': 2, 'MFGDP - Membership of the Faculty of General Dental Practitioners': 1, 'Membership of the Faculty of Dental Surgeons(MFDS)': 1, 'DNB - Respiratory Diseases': 2, 'BIMS': 1, 'MCPS': 2, 'Certificate in Sports Nutrition': 1, 'Post Graduate Diploma in Medical Cosmetology (PGDMC)': 2, 'Certificate in Pediatric Otolaryngology - Head and Neck Surgery': 1, 'Diploma in Aesthetic Dermatology': 1, 'MD - Infectious Diseases': 1, 'Certificate Course of One Year in Dental Implants': 1, 'Certificate Course in Advance Implantology': 1, 'Certificate Course in Evidence Based Diabetes Management (CCEBDM)': 4, 'Certificate Course in Gestational Diabetes (CCGDM)': 3, 'MD - Physical Medicine & Rehabilitation': 1, 'Diploma in Physical Medicine & Rehabilitation': 1, 'Fellowship in Diabetology & Endocrinology': 1, 'CCT - Endocrinology and Diabetes Mellitus': 1, 'Certified Sinus lift surgeon': 1, 'Diploma in Skin Polishing Technology': 1, 'Diploma in Slimming & Laser Treatments': 1, 'Certificate in Clinical Cosmetology': 1, 'PCAD (USA)': 1, 'MD - Acupressure': 2, 'PhD - Diabetes': 1, 'Fellowship in Medical Cosmetology': 2, 'Diploma in Cosmetic Dentistry': 1, 'FRCS - Otolaryngology': 5, 'DNB - Cardiology': 2, 'Distance Fellowship in Diabetes Management': 1, 'MBA - Healthcare Services': 1, 'Post Graduate Diploma in Diabetology (PGDD)(Johns Hopkins University School of Medicine': 1, 'Fellowship in Diabetology(Johns Hopkins University School of Medicine': 1, 'DMD - Doctor of Dental Medicine': 1, 'Post Graduate Diploma in Diabetology (PGDD)(Cardiff University': 1, 'ACDMC': 1, 'Diploma in Acupressure Therapy': 1, 'Advanced Certificate Course In Diabetes': 4, 'Post graduate certificate In sports Medicine': 1, 'Clinical Cardiology Certification': 1, 'FDS Surgical Oral Oncology': 1, 'Diploma in Ultra Sonology': 1, 'MD (HOM) - Paeditrics': 1, 'Clinical Fellowship in Rhinology': 1, 'MD - Ophthalmology': 1, 'MDS - Oral Pathalogy & Microbiology': 1, 'LLB': 2, 'Fellow in Dermato - Surgery': 1, 'Advance Fellowship in Laser & Dermatosurgery': 1, 'PhD - Psychology': 1, 'MD - Tuberculosis & Respiratory Diseases / Pulmonary Medicine': 2, 'MDS - Oral Medicine': 4, 'PG Certificate Course In Diabetes Education(PGDCE)': 3, 'PGD Yoga': 1, 'MA (Yoga Shastra)': 1, 'Diploma in Yoga Shikshaka': 1, \"Yoga Instructor's Course\": 4, 'D.H.M': 1, 'MD - Physiology': 1, 'F.A.M': 1, 'Fellowship in laryngology': 1, 'Ph. D - ENT': 1, 'Certificate in Laser and Dermatology': 1, 'Diploma in Skin & Vinereal Disease': 1, 'Diploma of Nutrition & Diet Planning': 2, 'Diploma in Diabetes': 3, 'PG - Echocardiography': 1, 'DM - Pulmonary Medicine & Critical Care Medicine': 1, 'European Diploma in Respiratory Medicine': 1, 'Post Graduate Diploma in Diabetic Education': 1, 'Weight Management Consultant Certificate': 1, 'Fellowship (Endoscopic Sinus Surgery)': 1, 'MD - TB & Chest': 1, 'FRACP (Rheumatology)': 2, 'F.C.P.S (Dermatology)': 1, 'Post Graduate Diploma in Health Sciences (PGDHSc)': 1, 'Master of Health Sciences (MHSc)': 3, 'M. SC in YOGA': 1, 'Diploma in Naturopathy & Yogic Science (DNYT)': 1, 'DYSc.': 1, 'Post Graduate in Clinical Psychology': 1, 'Certificate Course in Panchakarma': 2, 'Certificate Course in Nadi Sutra': 1, 'Post Graduate Certificate In Hiv And Std Manegement': 1, 'Fellow Indian Academy Of Clinical Medicine': 1, 'Advance Course In Osteoporosis': 1, 'EULAR certificate for Rheumatic Diseases': 1, 'MD - Radio Diagnosis/Radiology': 1, 'CCT - Dermatology': 1, 'Diploma in ABLS (USA)': 1, 'FPFA': 1, 'MDS - Preventive and Public Health Dentistry': 2, 'Certificate course in Reiki': 1, 'Certificate in Nutrition and Health in Hospitalized': 1, 'Certificate in Guidance and Counselling': 1, 'Post graduate diploma in Health Management': 1, 'PGDPC (Post Graduation Diploma In Psychological Counselling)': 3, 'MD - Transfusion Medicine': 1, 'MD - Bio-Chemistry': 1, 'PGD ND': 1, 'MBS (H)': 1, 'FIAMS': 2, 'Certified in Pedodontics': 1, 'FICS - ENT': 1, 'FRHS': 1, 'M.Sc - Biochemistry': 1, 'Fellow of the Royal College of Surgeons of Ireland': 1, 'Fundamental in Oral Implantology': 1, 'Doctorate of Medicine in Electro Homoeopathy(MDEH)': 1, 'D.D': 1, 'FCCS': 3, 'DSM ( Siddha Medicine)': 1, 'D.Ac': 1, 'MD - Social & Preventive Medicine / Community Medicine': 1, 'PGCE(Endodontics)': 1, 'MS - Ayurvedic Ophthalmology': 1, 'MNAMS - Nephrology': 1, 'DAFPRS Fellowship in Aesthetic Surgery': 1, 'Fellowship in Pediatric Endocrinology': 1, 'Diploma in Urology': 1, 'FRCPCH': 1, 'M Phil Psychology': 1, 'PDCC - Hand': 1, 'PG in Laser Dentistry': 1, 'Diploma in Obesity & Pain management': 1, 'Post Graduate Diploma in Health': 1, 'Family Welfare and Population': 1, 'DIH': 1, 'Doctor of Medicine': 2, 'M.D. Panchakarma': 1, 'M.Sc. Yoga and Naturopathy': 1, 'Certificate in Botox and Fillers': 1, 'MD - Pain Management': 1, 'FICA': 2, 'Diploma in Dietetics': 1, 'Health and Nutrition (DDHN)': 1, 'DVL': 2, 'Diplomate in Neuromuscular Functional Orthodontics And Gathology': 1, 'FIMSA': 2, 'MSc - Physiology': 1, 'PG Diploma Clinical Research': 1, 'Diploma in Dietetics & Public Health Nutrition (DDPHN)': 1, 'Robert Turner Diabetes Research Training': 1, 'WHO/IDF/EASD Cambridge Diabetes Training': 1, 'MS - Otrohinolaryngology': 1, 'AMI Essentials- Applied Workshop for Aesthetic Procedures': 1, 'Advanced Course in Cosmetology and Aesthetic Medicine': 2, 'Fellowship in Micro Ear surgery': 1, 'Fellowship in Snoring Surgery': 1, 'Diploma in Industrial Health': 1, 'MSc - Psychotherapy': 1, 'Certification of Life Coach': 1, 'PG - Homeo': 1, 'M.A - Sanskrit': 1, 'DNB - Endocrinology': 1, 'Diabetes': 1, 'Metabolism': 1, 'Certified Yoga and Pranic healing Therapist': 1, 'Certified National Diabetes Educator': 1, 'Bachelor of Acupuncture': 1, 'Certified Analytical Hypnotherapist': 1, 'Diploma in Physiotherapy': 1, 'Certificate in Medical Cosmetology': 1, 'MD - Radiotherapy': 1, 'Certificate course in SUJOK Therapy': 1, 'Fellowship In Clinical Cosmetology': 1, 'Cochlear Implant Surgery': 1, 'Fellowship Cochlear Implant Training': 1, 'Post Graduate Diploma in Psychological Counseling': 1, 'Post Graduate Diploma in Diabetology (PGDD)(Madras Medical College)': 1, 'Diploma in Skin Treatments (UK)': 1, 'Certification of Aesthetic Dentistry & Periodontics': 1, 'MCh - Burns & Plastic Surgery': 1, 'EULAR Certificate in Rheumatology': 1, 'FICO (UK)': 1, 'PhD - Dermatology & Venereology': 1, 'DNB - Pulmonary Medicine': 3, 'Post Graduate Certificate Course In Aesthetic Dentistry': 1, 'FACP': 1, 'Member of the Royal College of General Practitioners UK (MRCGP)': 1, 'MD - Geriatrics': 1, 'MD AYURVED AND YOG': 1, 'Training Certificate in Hair Transplant': 1, 'Certificate Course in Gestational Diabetes Mellitus': 1, 'P.G. Diploma in Yoga & Meditation': 1, 'MD-Ayurvedic Vachaspati': 1, 'Post Graduate Diploma in Sports Medicine': 1, 'MSc. - Dermatology Skills and Treatment (University of Hertfordshire)': 1, 'MSc - Applied Psychology': 1, 'FRCSEd': 1, 'MSc - Endocrinology(UK)': 1, 'MCh - Cardio Thoracic Surgery': 1, 'Masters in Surgery (MS)': 1, 'MD - (Medicine - Endocrinology)': 1, 'MCEM': 1, 'DFM (UK)': 1, 'DIPLOMA IN TB AND CHEST DISEASES': 1, 'Certification in Nutrition and Weight Management': 1, 'DAT(Diploma in Accupressure and foot Reflexology)': 1, 'MASLP': 1, 'Diploma in Radio Therapy': 1, 'FDSRCS - Fellowship in Dental Surgery': 2, 'Fellowship in ClearPath Aligners': 1, 'FAMS - Dermatology': 1, 'Diploma In Anatomy Physiology': 1, 'PDCC - Pediatric Endocrinology': 1, 'Diploma in Counselling and Psychotherapy': 1, 'MD - CCM': 1, 'Ph.D(Doctor of Philosophy)': 1, 'PG Diploma in Value Education and Spirtuality': 1, 'Certified Implantologist': 1, 'Fellowship in Surgical Oncology (Head & Neck)': 1, 'Continuing Education Certificate Program on Temporomandibular Joint Disorder and Orofacial Pain': 1, 'Post Graduate in Homeopathy(london)': 1, 'DNB - Radiation Oncology': 1, 'MDS - Operative Dentistry': 1, 'DTCD(Diploma in TB and Chest Dieseas)': 1, 'Member Of The National Academy Of Medical Sciences': 1, 'DNB - Radiotherapy': 1, 'Post Graduate Diploma in Diabetology (PGDD)(University of Leicester': 1, 'DRCOG': 1, 'FDS Endodontics': 1, 'Certified in Advanced Orthodontics': 1, 'certification in smile designing': 1}\n"
     ]
    }
   ],
   "source": [
    "# Counting how many number of each qualifications are there and saving it into a dictionary with keys(qualification name)\n",
    "# and values(how many these qualifications are present)\n",
    "\n",
    "df_train[\"Qualification\"]=df_train[\"Qualification\"].str.split(\",\")\n",
    "Qualification ={}\n",
    "for i in df_train[\"Qualification\"].values:\n",
    "    for x in i:\n",
    "        x = x.strip()\n",
    "        if x in Qualification:\n",
    "            Qualification[x]+=1\n",
    "        else:\n",
    "            Qualification[x]=1\n",
    "            \n",
    "print(Qualification)"
   ]
  },
  {
   "cell_type": "code",
   "execution_count": 396,
   "metadata": {},
   "outputs": [
    {
     "name": "stdout",
     "output_type": "stream",
     "text": [
      "['MBBS', 'BDS', 'BAMS', 'BHMS', 'MD - Dermatology', 'MS - ENT', 'Venereology & Leprosy', 'MD - General Medicine', 'Diploma in Otorhinolaryngology (DLO)', 'MD - Homeopathy']\n"
     ]
    }
   ],
   "source": [
    "#Extracting top 10 qualification\n",
    "\n",
    "top_qual = sorted(Qualification.items(),key=lambda x:x[1],reverse=True)[:10]\n",
    "final_qual = []\n",
    "for qual in top_qual:\n",
    "    final_qual.append(qual[0])\n",
    "    \n",
    "print(final_qual)"
   ]
  },
  {
   "cell_type": "code",
   "execution_count": 397,
   "metadata": {},
   "outputs": [],
   "source": [
    "# extracted top 10 qualification into train dataset as new column.\n",
    "\n",
    "for qual in final_qual:\n",
    "    df_train[qual] = 0\n",
    "\n",
    "for x,y in zip(df_train['Qualification'].values, np.array([i for i in range(len(df_train))])):\n",
    "    for i in x:\n",
    "        i = i.strip()\n",
    "        if i in final_qual:\n",
    "            df_train[i][y] = 1"
   ]
  },
  {
   "cell_type": "code",
   "execution_count": 398,
   "metadata": {},
   "outputs": [],
   "source": [
    "df_train.drop('Qualification', axis=1, inplace=True)"
   ]
  },
  {
   "cell_type": "markdown",
   "metadata": {},
   "source": [
    "### converting experience column"
   ]
  },
  {
   "cell_type": "code",
   "execution_count": 399,
   "metadata": {},
   "outputs": [
    {
     "data": {
      "text/plain": [
       "0       24 years experience\n",
       "1       12 years experience\n",
       "2        9 years experience\n",
       "3       12 years experience\n",
       "4       20 years experience\n",
       "               ...         \n",
       "5956    19 years experience\n",
       "5957    33 years experience\n",
       "5958    41 years experience\n",
       "5959    15 years experience\n",
       "5960    17 years experience\n",
       "Name: Experience, Length: 5961, dtype: object"
      ]
     },
     "execution_count": 399,
     "metadata": {},
     "output_type": "execute_result"
    }
   ],
   "source": [
    "df_train['Experience']"
   ]
  },
  {
   "cell_type": "markdown",
   "metadata": {},
   "source": [
    "As we can see here, the experience column contain number of experience with string(years experience). We will remove the string value and leave the number of experience only."
   ]
  },
  {
   "cell_type": "code",
   "execution_count": 400,
   "metadata": {},
   "outputs": [],
   "source": [
    "df_train['Experience'] = df_train['Experience'].str.split().str[0]\n",
    "df_train['Experience'] = df_train['Experience'].astype(int)"
   ]
  },
  {
   "cell_type": "markdown",
   "metadata": {},
   "source": [
    "### Treating rating column"
   ]
  },
  {
   "cell_type": "code",
   "execution_count": 401,
   "metadata": {},
   "outputs": [
    {
     "data": {
      "text/plain": [
       "0       100%\n",
       "1        98%\n",
       "2        NaN\n",
       "3        NaN\n",
       "4       100%\n",
       "        ... \n",
       "5956     98%\n",
       "5957     NaN\n",
       "5958     97%\n",
       "5959     90%\n",
       "5960    100%\n",
       "Name: Rating, Length: 5961, dtype: object"
      ]
     },
     "execution_count": 401,
     "metadata": {},
     "output_type": "execute_result"
    }
   ],
   "source": [
    "df_train['Rating']"
   ]
  },
  {
   "cell_type": "markdown",
   "metadata": {},
   "source": [
    "First we have to fill missing values with -99% to provide them different importance."
   ]
  },
  {
   "cell_type": "code",
   "execution_count": 402,
   "metadata": {},
   "outputs": [],
   "source": [
    "df_train['Rating'].fillna('-99%',inplace=True)"
   ]
  },
  {
   "cell_type": "markdown",
   "metadata": {},
   "source": [
    "Now we have to remove % sign"
   ]
  },
  {
   "cell_type": "code",
   "execution_count": 403,
   "metadata": {},
   "outputs": [],
   "source": [
    "df_train['Rating'] = df_train['Rating'].str.slice(stop=-1).astype(int)"
   ]
  },
  {
   "cell_type": "markdown",
   "metadata": {},
   "source": [
    "Now we will create bins for these columns"
   ]
  },
  {
   "cell_type": "code",
   "execution_count": 404,
   "metadata": {},
   "outputs": [],
   "source": [
    "bins = [-99, 0, 10, 20, 30, 40, 50, 60, 70, 80, 90, 100]\n",
    "labels = [0, 1, 2, 3, 4, 5, 6, 7, 8, 9, 10]"
   ]
  },
  {
   "cell_type": "code",
   "execution_count": 405,
   "metadata": {},
   "outputs": [],
   "source": [
    "df_train['Rating'] = pd.cut(df_train['Rating'], bins=bins, labels=labels, include_lowest=True)"
   ]
  },
  {
   "cell_type": "code",
   "execution_count": 406,
   "metadata": {},
   "outputs": [
    {
     "data": {
      "text/plain": [
       "0     3302\n",
       "10    2222\n",
       "9      280\n",
       "8       98\n",
       "7       32\n",
       "6       19\n",
       "4        4\n",
       "5        3\n",
       "1        1\n",
       "3        0\n",
       "2        0\n",
       "Name: Rating, dtype: int64"
      ]
     },
     "execution_count": 406,
     "metadata": {},
     "output_type": "execute_result"
    }
   ],
   "source": [
    "df_train['Rating'].value_counts()"
   ]
  },
  {
   "cell_type": "markdown",
   "metadata": {},
   "source": [
    "### Treating Place column "
   ]
  },
  {
   "cell_type": "code",
   "execution_count": 407,
   "metadata": {},
   "outputs": [
    {
     "data": {
      "text/plain": [
       "HSR Layout, Bangalore               75\n",
       "Andheri West, Mumbai                70\n",
       "Dwarka, Delhi                       67\n",
       "Banjara Hills, Hyderabad            64\n",
       "Mulund West, Mumbai                 54\n",
       "                                    ..\n",
       "Baghlingampally, Hyderabad           1\n",
       "Vileparle, Mumbai                    1\n",
       "Inder Puri, Delhi                    1\n",
       "Ullal Upanagara, Bangalore           1\n",
       "Palkulangara, Thiruvananthapuram     1\n",
       "Name: Place, Length: 877, dtype: int64"
      ]
     },
     "execution_count": 407,
     "metadata": {},
     "output_type": "execute_result"
    }
   ],
   "source": [
    "df_train['Place'].value_counts()"
   ]
  },
  {
   "cell_type": "code",
   "execution_count": 408,
   "metadata": {},
   "outputs": [],
   "source": [
    "df_train['Place'].fillna('Unknown,Unknown', inplace=True)"
   ]
  },
  {
   "cell_type": "markdown",
   "metadata": {},
   "source": [
    "Now we have consider only the city names in place column"
   ]
  },
  {
   "cell_type": "code",
   "execution_count": 409,
   "metadata": {},
   "outputs": [],
   "source": [
    "df_train['City'] = df_train['Place'].str.split(\",\").str[1]"
   ]
  },
  {
   "cell_type": "code",
   "execution_count": 410,
   "metadata": {},
   "outputs": [],
   "source": [
    "# now we can drop place column\n",
    "df_train.drop('Place', axis=1, inplace=True)"
   ]
  },
  {
   "cell_type": "code",
   "execution_count": 411,
   "metadata": {},
   "outputs": [
    {
     "data": {
      "text/plain": [
       " Bangalore             1258\n",
       " Mumbai                1219\n",
       " Delhi                 1184\n",
       " Hyderabad              951\n",
       " Chennai                855\n",
       " Coimbatore             228\n",
       " Ernakulam              153\n",
       " Thiruvananthapuram      86\n",
       "Unknown                  25\n",
       " Sector 5                 1\n",
       "Name: City, dtype: int64"
      ]
     },
     "execution_count": 411,
     "metadata": {},
     "output_type": "execute_result"
    }
   ],
   "source": [
    "df_train['City'].value_counts()"
   ]
  },
  {
   "cell_type": "code",
   "execution_count": 412,
   "metadata": {},
   "outputs": [
    {
     "data": {
      "text/plain": [
       "0        True\n",
       "1       False\n",
       "2       False\n",
       "3       False\n",
       "4       False\n",
       "        ...  \n",
       "5956    False\n",
       "5957    False\n",
       "5958    False\n",
       "5959    False\n",
       "5960    False\n",
       "Name: City, Length: 5961, dtype: bool"
      ]
     },
     "execution_count": 412,
     "metadata": {},
     "output_type": "execute_result"
    }
   ],
   "source": [
    "df_train['City'] == ' Ernakulam'"
   ]
  },
  {
   "cell_type": "markdown",
   "metadata": {},
   "source": [
    "A white space is present befor the city name, we have to remove it"
   ]
  },
  {
   "cell_type": "code",
   "execution_count": 413,
   "metadata": {},
   "outputs": [],
   "source": [
    "df_train['City'] = df_train['City'].str.strip()"
   ]
  },
  {
   "cell_type": "markdown",
   "metadata": {},
   "source": [
    "Now we have to convert it using one-hot encoding."
   ]
  },
  {
   "cell_type": "code",
   "execution_count": 414,
   "metadata": {},
   "outputs": [
    {
     "data": {
      "text/html": [
       "<div>\n",
       "<style scoped>\n",
       "    .dataframe tbody tr th:only-of-type {\n",
       "        vertical-align: middle;\n",
       "    }\n",
       "\n",
       "    .dataframe tbody tr th {\n",
       "        vertical-align: top;\n",
       "    }\n",
       "\n",
       "    .dataframe thead th {\n",
       "        text-align: right;\n",
       "    }\n",
       "</style>\n",
       "<table border=\"1\" class=\"dataframe\">\n",
       "  <thead>\n",
       "    <tr style=\"text-align: right;\">\n",
       "      <th></th>\n",
       "      <th>Bangalore</th>\n",
       "      <th>Chennai</th>\n",
       "      <th>Coimbatore</th>\n",
       "      <th>Delhi</th>\n",
       "      <th>Ernakulam</th>\n",
       "      <th>Hyderabad</th>\n",
       "      <th>Mumbai</th>\n",
       "      <th>Sector 5</th>\n",
       "      <th>Thiruvananthapuram</th>\n",
       "      <th>Unknown</th>\n",
       "    </tr>\n",
       "  </thead>\n",
       "  <tbody>\n",
       "    <tr>\n",
       "      <th>0</th>\n",
       "      <td>0</td>\n",
       "      <td>0</td>\n",
       "      <td>0</td>\n",
       "      <td>0</td>\n",
       "      <td>1</td>\n",
       "      <td>0</td>\n",
       "      <td>0</td>\n",
       "      <td>0</td>\n",
       "      <td>0</td>\n",
       "      <td>0</td>\n",
       "    </tr>\n",
       "    <tr>\n",
       "      <th>1</th>\n",
       "      <td>1</td>\n",
       "      <td>0</td>\n",
       "      <td>0</td>\n",
       "      <td>0</td>\n",
       "      <td>0</td>\n",
       "      <td>0</td>\n",
       "      <td>0</td>\n",
       "      <td>0</td>\n",
       "      <td>0</td>\n",
       "      <td>0</td>\n",
       "    </tr>\n",
       "    <tr>\n",
       "      <th>2</th>\n",
       "      <td>1</td>\n",
       "      <td>0</td>\n",
       "      <td>0</td>\n",
       "      <td>0</td>\n",
       "      <td>0</td>\n",
       "      <td>0</td>\n",
       "      <td>0</td>\n",
       "      <td>0</td>\n",
       "      <td>0</td>\n",
       "      <td>0</td>\n",
       "    </tr>\n",
       "    <tr>\n",
       "      <th>3</th>\n",
       "      <td>1</td>\n",
       "      <td>0</td>\n",
       "      <td>0</td>\n",
       "      <td>0</td>\n",
       "      <td>0</td>\n",
       "      <td>0</td>\n",
       "      <td>0</td>\n",
       "      <td>0</td>\n",
       "      <td>0</td>\n",
       "      <td>0</td>\n",
       "    </tr>\n",
       "    <tr>\n",
       "      <th>4</th>\n",
       "      <td>0</td>\n",
       "      <td>1</td>\n",
       "      <td>0</td>\n",
       "      <td>0</td>\n",
       "      <td>0</td>\n",
       "      <td>0</td>\n",
       "      <td>0</td>\n",
       "      <td>0</td>\n",
       "      <td>0</td>\n",
       "      <td>0</td>\n",
       "    </tr>\n",
       "    <tr>\n",
       "      <th>...</th>\n",
       "      <td>...</td>\n",
       "      <td>...</td>\n",
       "      <td>...</td>\n",
       "      <td>...</td>\n",
       "      <td>...</td>\n",
       "      <td>...</td>\n",
       "      <td>...</td>\n",
       "      <td>...</td>\n",
       "      <td>...</td>\n",
       "      <td>...</td>\n",
       "    </tr>\n",
       "    <tr>\n",
       "      <th>5956</th>\n",
       "      <td>1</td>\n",
       "      <td>0</td>\n",
       "      <td>0</td>\n",
       "      <td>0</td>\n",
       "      <td>0</td>\n",
       "      <td>0</td>\n",
       "      <td>0</td>\n",
       "      <td>0</td>\n",
       "      <td>0</td>\n",
       "      <td>0</td>\n",
       "    </tr>\n",
       "    <tr>\n",
       "      <th>5957</th>\n",
       "      <td>0</td>\n",
       "      <td>1</td>\n",
       "      <td>0</td>\n",
       "      <td>0</td>\n",
       "      <td>0</td>\n",
       "      <td>0</td>\n",
       "      <td>0</td>\n",
       "      <td>0</td>\n",
       "      <td>0</td>\n",
       "      <td>0</td>\n",
       "    </tr>\n",
       "    <tr>\n",
       "      <th>5958</th>\n",
       "      <td>0</td>\n",
       "      <td>0</td>\n",
       "      <td>0</td>\n",
       "      <td>1</td>\n",
       "      <td>0</td>\n",
       "      <td>0</td>\n",
       "      <td>0</td>\n",
       "      <td>0</td>\n",
       "      <td>0</td>\n",
       "      <td>0</td>\n",
       "    </tr>\n",
       "    <tr>\n",
       "      <th>5959</th>\n",
       "      <td>0</td>\n",
       "      <td>0</td>\n",
       "      <td>0</td>\n",
       "      <td>0</td>\n",
       "      <td>0</td>\n",
       "      <td>0</td>\n",
       "      <td>1</td>\n",
       "      <td>0</td>\n",
       "      <td>0</td>\n",
       "      <td>0</td>\n",
       "    </tr>\n",
       "    <tr>\n",
       "      <th>5960</th>\n",
       "      <td>0</td>\n",
       "      <td>0</td>\n",
       "      <td>0</td>\n",
       "      <td>1</td>\n",
       "      <td>0</td>\n",
       "      <td>0</td>\n",
       "      <td>0</td>\n",
       "      <td>0</td>\n",
       "      <td>0</td>\n",
       "      <td>0</td>\n",
       "    </tr>\n",
       "  </tbody>\n",
       "</table>\n",
       "<p>5961 rows × 10 columns</p>\n",
       "</div>"
      ],
      "text/plain": [
       "      Bangalore  Chennai  Coimbatore  Delhi  Ernakulam  Hyderabad  Mumbai  \\\n",
       "0             0        0           0      0          1          0       0   \n",
       "1             1        0           0      0          0          0       0   \n",
       "2             1        0           0      0          0          0       0   \n",
       "3             1        0           0      0          0          0       0   \n",
       "4             0        1           0      0          0          0       0   \n",
       "...         ...      ...         ...    ...        ...        ...     ...   \n",
       "5956          1        0           0      0          0          0       0   \n",
       "5957          0        1           0      0          0          0       0   \n",
       "5958          0        0           0      1          0          0       0   \n",
       "5959          0        0           0      0          0          0       1   \n",
       "5960          0        0           0      1          0          0       0   \n",
       "\n",
       "      Sector 5  Thiruvananthapuram  Unknown  \n",
       "0            0                   0        0  \n",
       "1            0                   0        0  \n",
       "2            0                   0        0  \n",
       "3            0                   0        0  \n",
       "4            0                   0        0  \n",
       "...        ...                 ...      ...  \n",
       "5956         0                   0        0  \n",
       "5957         0                   0        0  \n",
       "5958         0                   0        0  \n",
       "5959         0                   0        0  \n",
       "5960         0                   0        0  \n",
       "\n",
       "[5961 rows x 10 columns]"
      ]
     },
     "execution_count": 414,
     "metadata": {},
     "output_type": "execute_result"
    }
   ],
   "source": [
    "city = pd.get_dummies(df_train['City'])\n",
    "city"
   ]
  },
  {
   "cell_type": "code",
   "execution_count": 415,
   "metadata": {},
   "outputs": [],
   "source": [
    "merged = pd.concat([df_train, city], axis='columns')\n",
    "merged.drop('City', axis=1, inplace=True)"
   ]
  },
  {
   "cell_type": "markdown",
   "metadata": {},
   "source": [
    "### Treating profile column"
   ]
  },
  {
   "cell_type": "code",
   "execution_count": 416,
   "metadata": {},
   "outputs": [
    {
     "data": {
      "text/plain": [
       "Dentist             1397\n",
       "General Medicine    1173\n",
       "Dermatologists      1034\n",
       "Homeopath            843\n",
       "Ayurveda             786\n",
       "ENT Specialist       728\n",
       "Name: Profile, dtype: int64"
      ]
     },
     "execution_count": 416,
     "metadata": {},
     "output_type": "execute_result"
    }
   ],
   "source": [
    "merged['Profile'].value_counts()"
   ]
  },
  {
   "cell_type": "code",
   "execution_count": 417,
   "metadata": {},
   "outputs": [
    {
     "data": {
      "text/html": [
       "<div>\n",
       "<style scoped>\n",
       "    .dataframe tbody tr th:only-of-type {\n",
       "        vertical-align: middle;\n",
       "    }\n",
       "\n",
       "    .dataframe tbody tr th {\n",
       "        vertical-align: top;\n",
       "    }\n",
       "\n",
       "    .dataframe thead th {\n",
       "        text-align: right;\n",
       "    }\n",
       "</style>\n",
       "<table border=\"1\" class=\"dataframe\">\n",
       "  <thead>\n",
       "    <tr style=\"text-align: right;\">\n",
       "      <th></th>\n",
       "      <th>Ayurveda</th>\n",
       "      <th>Dentist</th>\n",
       "      <th>Dermatologists</th>\n",
       "      <th>ENT Specialist</th>\n",
       "      <th>General Medicine</th>\n",
       "      <th>Homeopath</th>\n",
       "    </tr>\n",
       "  </thead>\n",
       "  <tbody>\n",
       "    <tr>\n",
       "      <th>0</th>\n",
       "      <td>0</td>\n",
       "      <td>0</td>\n",
       "      <td>0</td>\n",
       "      <td>0</td>\n",
       "      <td>0</td>\n",
       "      <td>1</td>\n",
       "    </tr>\n",
       "    <tr>\n",
       "      <th>1</th>\n",
       "      <td>1</td>\n",
       "      <td>0</td>\n",
       "      <td>0</td>\n",
       "      <td>0</td>\n",
       "      <td>0</td>\n",
       "      <td>0</td>\n",
       "    </tr>\n",
       "    <tr>\n",
       "      <th>2</th>\n",
       "      <td>0</td>\n",
       "      <td>0</td>\n",
       "      <td>0</td>\n",
       "      <td>1</td>\n",
       "      <td>0</td>\n",
       "      <td>0</td>\n",
       "    </tr>\n",
       "    <tr>\n",
       "      <th>3</th>\n",
       "      <td>1</td>\n",
       "      <td>0</td>\n",
       "      <td>0</td>\n",
       "      <td>0</td>\n",
       "      <td>0</td>\n",
       "      <td>0</td>\n",
       "    </tr>\n",
       "    <tr>\n",
       "      <th>4</th>\n",
       "      <td>1</td>\n",
       "      <td>0</td>\n",
       "      <td>0</td>\n",
       "      <td>0</td>\n",
       "      <td>0</td>\n",
       "      <td>0</td>\n",
       "    </tr>\n",
       "    <tr>\n",
       "      <th>...</th>\n",
       "      <td>...</td>\n",
       "      <td>...</td>\n",
       "      <td>...</td>\n",
       "      <td>...</td>\n",
       "      <td>...</td>\n",
       "      <td>...</td>\n",
       "    </tr>\n",
       "    <tr>\n",
       "      <th>5956</th>\n",
       "      <td>0</td>\n",
       "      <td>0</td>\n",
       "      <td>0</td>\n",
       "      <td>1</td>\n",
       "      <td>0</td>\n",
       "      <td>0</td>\n",
       "    </tr>\n",
       "    <tr>\n",
       "      <th>5957</th>\n",
       "      <td>0</td>\n",
       "      <td>0</td>\n",
       "      <td>0</td>\n",
       "      <td>0</td>\n",
       "      <td>1</td>\n",
       "      <td>0</td>\n",
       "    </tr>\n",
       "    <tr>\n",
       "      <th>5958</th>\n",
       "      <td>0</td>\n",
       "      <td>0</td>\n",
       "      <td>0</td>\n",
       "      <td>0</td>\n",
       "      <td>1</td>\n",
       "      <td>0</td>\n",
       "    </tr>\n",
       "    <tr>\n",
       "      <th>5959</th>\n",
       "      <td>0</td>\n",
       "      <td>0</td>\n",
       "      <td>0</td>\n",
       "      <td>0</td>\n",
       "      <td>1</td>\n",
       "      <td>0</td>\n",
       "    </tr>\n",
       "    <tr>\n",
       "      <th>5960</th>\n",
       "      <td>0</td>\n",
       "      <td>1</td>\n",
       "      <td>0</td>\n",
       "      <td>0</td>\n",
       "      <td>0</td>\n",
       "      <td>0</td>\n",
       "    </tr>\n",
       "  </tbody>\n",
       "</table>\n",
       "<p>5961 rows × 6 columns</p>\n",
       "</div>"
      ],
      "text/plain": [
       "      Ayurveda  Dentist  Dermatologists  ENT Specialist  General Medicine  \\\n",
       "0            0        0               0               0                 0   \n",
       "1            1        0               0               0                 0   \n",
       "2            0        0               0               1                 0   \n",
       "3            1        0               0               0                 0   \n",
       "4            1        0               0               0                 0   \n",
       "...        ...      ...             ...             ...               ...   \n",
       "5956         0        0               0               1                 0   \n",
       "5957         0        0               0               0                 1   \n",
       "5958         0        0               0               0                 1   \n",
       "5959         0        0               0               0                 1   \n",
       "5960         0        1               0               0                 0   \n",
       "\n",
       "      Homeopath  \n",
       "0             1  \n",
       "1             0  \n",
       "2             0  \n",
       "3             0  \n",
       "4             0  \n",
       "...         ...  \n",
       "5956          0  \n",
       "5957          0  \n",
       "5958          0  \n",
       "5959          0  \n",
       "5960          0  \n",
       "\n",
       "[5961 rows x 6 columns]"
      ]
     },
     "execution_count": 417,
     "metadata": {},
     "output_type": "execute_result"
    }
   ],
   "source": [
    "profile = pd.get_dummies(merged['Profile'])\n",
    "profile"
   ]
  },
  {
   "cell_type": "code",
   "execution_count": 418,
   "metadata": {},
   "outputs": [],
   "source": [
    "final_df_train = pd.concat([merged, profile], axis='columns')\n",
    "final_df_train.drop('Profile', axis=1, inplace=True)"
   ]
  },
  {
   "cell_type": "markdown",
   "metadata": {},
   "source": [
    "### Treating Miscellenious column"
   ]
  },
  {
   "cell_type": "code",
   "execution_count": 419,
   "metadata": {},
   "outputs": [
    {
     "data": {
      "text/plain": [
       "Acrylic Partial Denture Crowns and Bridges Fixing Artificial Teeth                      40\n",
       "Tooth Extraction Dental Fillings Scaling / Polishing                                    12\n",
       "Dental Fillings Zirconia Crowns Dental Implant Fixing                                   12\n",
       "Skin Allergy Treatment Skin Allergies Dermabrasion                                       9\n",
       "Skin Disease Treatment Kidney Stone Treatment Gall Bladder (Biliary) Stone Treatment     9\n",
       "                                                                                        ..\n",
       "93% 147 Feedback HSR Layout, Bangalore                                                   1\n",
       "dental implants RCT - Root Canal Treatment Crowns and Bridge                             1\n",
       "57% 5 Feedback Dilsukhnagar, Hyderabad                                                   1\n",
       "86% 8 Feedback Rajajinagar, Bangalore                                                    1\n",
       "97% 14 Feedback Kadavanthra, Ernakulam                                                   1\n",
       "Name: Miscellaneous_Info, Length: 2998, dtype: int64"
      ]
     },
     "execution_count": 419,
     "metadata": {},
     "output_type": "execute_result"
    }
   ],
   "source": [
    "final_df_train['Miscellaneous_Info'].value_counts()"
   ]
  },
  {
   "cell_type": "markdown",
   "metadata": {},
   "source": [
    "We can drop this columns as it is too much messy and the information that it give is already present in our dataset."
   ]
  },
  {
   "cell_type": "code",
   "execution_count": 420,
   "metadata": {},
   "outputs": [],
   "source": [
    "final_df_train.drop('Miscellaneous_Info', axis=1, inplace=True)"
   ]
  },
  {
   "cell_type": "markdown",
   "metadata": {},
   "source": [
    "## Importing modules"
   ]
  },
  {
   "cell_type": "code",
   "execution_count": 422,
   "metadata": {},
   "outputs": [],
   "source": [
    "from sklearn import metrics\n",
    "from sklearn.model_selection import train_test_split\n",
    "from sklearn.model_selection import cross_val_score\n",
    "from sklearn.model_selection import GridSearchCV\n",
    "from sklearn.model_selection import KFold\n",
    "from sklearn.pipeline import Pipeline\n",
    "from sklearn.preprocessing import StandardScaler\n",
    "from sklearn.linear_model import LinearRegression\n",
    "from sklearn.linear_model import Lasso\n",
    "from sklearn.linear_model import ElasticNet\n",
    "from sklearn.tree import DecisionTreeRegressor\n",
    "from sklearn.neighbors import KNeighborsRegressor\n",
    "from sklearn.ensemble import GradientBoostingRegressor"
   ]
  },
  {
   "cell_type": "markdown",
   "metadata": {},
   "source": [
    "### Model Buiding"
   ]
  },
  {
   "cell_type": "code",
   "execution_count": 423,
   "metadata": {},
   "outputs": [],
   "source": [
    "x = final_df_train.drop('Fees', axis=1)"
   ]
  },
  {
   "cell_type": "code",
   "execution_count": 424,
   "metadata": {},
   "outputs": [],
   "source": [
    "y = final_df_train['Fees']"
   ]
  },
  {
   "cell_type": "code",
   "execution_count": 425,
   "metadata": {},
   "outputs": [],
   "source": [
    "x_train, x_test, y_train, y_test = train_test_split(x, y, test_size=0.3)"
   ]
  },
  {
   "cell_type": "code",
   "execution_count": 463,
   "metadata": {},
   "outputs": [
    {
     "name": "stdout",
     "output_type": "stream",
     "text": [
      "Linear Regression: MSE is 28607.00, RMSE is 169.14 and MAE is 135.93\n",
      "LASSO: MSE is 28953.89, RMSE is 170.16 and MAE is 137.75\n",
      "Elastic Net: MSE is 30834.02, RMSE is 175.60 and MAE is 144.60\n",
      "KNN: MSE is 33335.45, RMSE is 182.58 and MAE is 143.49\n",
      "Decision Tree: MSE is 49345.10, RMSE is 222.14 and MAE is 163.71\n",
      "Gradient Boosting: MSE is 28110.65, RMSE is 167.66 and MAE is 134.28\n",
      "The best model is Gradient Boosting with the lowest RMSE value 167.66\n"
     ]
    }
   ],
   "source": [
    "models = []\n",
    "models.append(('Linear Regression', LinearRegression()))\n",
    "models.append(('LASSO', Lasso()))\n",
    "models.append(('Elastic Net', ElasticNet()))\n",
    "models.append(('KNN', KNeighborsRegressor()))\n",
    "models.append(('Decision Tree', DecisionTreeRegressor()))\n",
    "models.append(('Gradient Boosting', GradientBoostingRegressor()))\n",
    "\n",
    "low_rmse = 0\n",
    "for name, model in models:\n",
    "    model.fit(x_train, y_train)\n",
    "    predi = model.predict(x_test)\n",
    "    mse = metrics.mean_squared_error(y_test, predi)\n",
    "    mae = metrics.mean_absolute_error(y_test, predi)\n",
    "    rmse = np.sqrt(metrics.mean_squared_error(y_test, predi))\n",
    "    print(\"{}: MSE is {:.2f}, RMSE is {:.2f} and MAE is {:.2f}\".format(name, mse, rmse, mae))\n",
    "    low_rmse = rmse\n",
    "    if rmse < low_rmse:\n",
    "        low_rmse = rmse\n",
    "print(\"The best model is {} with the lowest RMSE value {:.2f}\".format(name, low_rmse))        "
   ]
  },
  {
   "cell_type": "markdown",
   "metadata": {},
   "source": [
    "Here we can see that the Gradient Boosting performs well as it has the minimum RMSE value."
   ]
  },
  {
   "cell_type": "markdown",
   "metadata": {},
   "source": [
    "### Checking cross validation score"
   ]
  },
  {
   "cell_type": "code",
   "execution_count": 465,
   "metadata": {},
   "outputs": [
    {
     "name": "stdout",
     "output_type": "stream",
     "text": [
      "Linear Regression: -175.05814681249979\n",
      "LASSO: -176.06428119714548\n",
      "Elastic Net: -181.90688762975304\n",
      "KNN: -187.58361810251284\n",
      "Decision Tree: -224.64906269042316\n",
      "Gradient Boosting: -173.19070397603977\n",
      "The best model is Gradient Boosting with the lowest RMSE value 167.66\n"
     ]
    }
   ],
   "source": [
    "for name, model in models:\n",
    "    kfold = KFold(n_splits=10)\n",
    "    cv = cross_val_score(model, x_train, y_train, cv=kfold, scoring='neg_root_mean_squared_error')\n",
    "    result = cv.mean()\n",
    "    print('{}: {}'.format(name, result))\n",
    "    low_rmse = rmse\n",
    "    if rmse < low_rmse:\n",
    "        low_rmse = rmse\n",
    "print(\"The best model is {} with the lowest RMSE value {:.2f}\".format(name, low_rmse)) "
   ]
  },
  {
   "cell_type": "markdown",
   "metadata": {},
   "source": [
    "Here also our Gradient Boosting perrforms well"
   ]
  },
  {
   "cell_type": "markdown",
   "metadata": {},
   "source": [
    "### Hyperparameter tuning"
   ]
  },
  {
   "cell_type": "code",
   "execution_count": 469,
   "metadata": {},
   "outputs": [],
   "source": [
    "# creating parameter list to pass in Grid Search CV\n",
    "\n",
    "parameters = {'max_depth': np.arange(2,5),\n",
    "             'learning_rate': [0.01,0.1],\n",
    "             'loss': ['ls','lad','huber','quantile'],\n",
    "             'criterion': ['friedman_mse','mse','mae']}"
   ]
  },
  {
   "cell_type": "code",
   "execution_count": 470,
   "metadata": {},
   "outputs": [
    {
     "data": {
      "text/plain": [
       "GridSearchCV(cv=KFold(n_splits=10, random_state=None, shuffle=False),\n",
       "             estimator=GradientBoostingRegressor(),\n",
       "             param_grid={'criterion': ['friedman_mse', 'mse', 'mae'],\n",
       "                         'learning_rate': [0.01, 0.1],\n",
       "                         'loss': ['ls', 'lad', 'huber', 'quantile'],\n",
       "                         'max_depth': array([2, 3, 4])})"
      ]
     },
     "execution_count": 470,
     "metadata": {},
     "output_type": "execute_result"
    }
   ],
   "source": [
    "GCV = GridSearchCV(GradientBoostingRegressor(), parameters, cv=kfold)\n",
    "GCV.fit(x_train, y_train)"
   ]
  },
  {
   "cell_type": "code",
   "execution_count": 471,
   "metadata": {},
   "outputs": [
    {
     "data": {
      "text/plain": [
       "{'criterion': 'friedman_mse',\n",
       " 'learning_rate': 0.1,\n",
       " 'loss': 'ls',\n",
       " 'max_depth': 3}"
      ]
     },
     "execution_count": 471,
     "metadata": {},
     "output_type": "execute_result"
    }
   ],
   "source": [
    "# getting best parameters \n",
    "\n",
    "GCV.best_params_"
   ]
  },
  {
   "cell_type": "code",
   "execution_count": 478,
   "metadata": {},
   "outputs": [
    {
     "name": "stdout",
     "output_type": "stream",
     "text": [
      "RMSE: 167.6631769000031\n"
     ]
    },
    {
     "data": {
      "text/plain": [
       "Text(0, 0.5, 'Predcited Values')"
      ]
     },
     "execution_count": 478,
     "metadata": {},
     "output_type": "execute_result"
    },
    {
     "data": {
      "image/png": "[encoded data removed]",
      "text/plain": [
       "<Figure size 432x288 with 1 Axes>"
      ]
     },
     "metadata": {
      "needs_background": "light"
     },
     "output_type": "display_data"
    }
   ],
   "source": [
    "# Building the model with best parameter.\n",
    "\n",
    "mod = GradientBoostingRegressor(criterion='friedman_mse', learning_rate=0.1, loss='ls', max_depth=3)\n",
    "prediction = mod.predict(x_test)\n",
    "print(\"RMSE: {}\".format(np.sqrt(metrics.mean_squared_error(y_test, prediction))))\n",
    "sns.scatterplot(y_test, prediction)\n",
    "plt.xlabel(\"Y-Test\")\n",
    "plt.ylabel(\"Predcited Values\")"
   ]
  },
  {
   "cell_type": "markdown",
   "metadata": {},
   "source": [
    "## Saving our model "
   ]
  },
  {
   "cell_type": "code",
   "execution_count": 482,
   "metadata": {},
   "outputs": [
    {
     "data": {
      "text/plain": [
       "['doctor.pkl']"
      ]
     },
     "execution_count": 482,
     "metadata": {},
     "output_type": "execute_result"
    }
   ],
   "source": [
    "import joblib\n",
    "joblib.dump(mod, 'doctor.pkl')"
   ]
  },
  {
   "cell_type": "markdown",
   "metadata": {},
   "source": [
    "## Loading the saved model"
   ]
  },
  {
   "cell_type": "code",
   "execution_count": 483,
   "metadata": {},
   "outputs": [
    {
     "name": "stdout",
     "output_type": "stream",
     "text": [
      "Mean Absolute Error: 134.29211789375097\n",
      "Mean Squared Error: 28110.94088820173\n",
      "Root Mean Squared Error: 167.6631769000031\n"
     ]
    }
   ],
   "source": [
    "save = joblib.load('doctor.pkl')\n",
    "prediction = save.predict(x_test)\n",
    "print('Mean Absolute Error: {}'.format(metrics.mean_absolute_error(y_test, prediction)))\n",
    "print('Mean Squared Error: {}'.format(metrics.mean_squared_error(y_test, prediction)))\n",
    "print('Root Mean Squared Error: {}'.format(np.sqrt(metrics.mean_squared_error(y_test, prediction))))"
   ]
  },
  {
   "cell_type": "code",
   "execution_count": 484,
   "metadata": {},
   "outputs": [
    {
     "data": {
      "text/plain": [
       "array([314.63701756, 354.50624397, 333.51964897, ..., 407.05199394,\n",
       "       311.32430688, 219.84910906])"
      ]
     },
     "execution_count": 484,
     "metadata": {},
     "output_type": "execute_result"
    }
   ],
   "source": [
    "prediction"
   ]
  }
 ],
 "metadata": {
  "kernelspec": {
   "display_name": "Python 3",
   "language": "python",
   "name": "python3"
  },
  "language_info": {
   "codemirror_mode": {
    "name": "ipython",
    "version": 3
   },
   "file_extension": ".py",
   "mimetype": "text/x-python",
   "name": "python",
   "nbconvert_exporter": "python",
   "pygments_lexer": "ipython3",
   "version": "3.7.1"
  }
 },
 "nbformat": 4,
 "nbformat_minor": 4
}
